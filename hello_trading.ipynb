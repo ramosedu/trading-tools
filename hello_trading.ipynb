{
 "cells": [
  {
   "cell_type": "code",
   "execution_count": 2,
   "id": "1cfc7fc5",
   "metadata": {},
   "outputs": [],
   "source": [
    "import pandas as pd\n",
    "import quandl as qd\n",
    "from datetime import datetime\n"
   ]
  },
  {
   "cell_type": "code",
   "execution_count": 3,
   "id": "97009f25",
   "metadata": {},
   "outputs": [],
   "source": [
    "qd.ApiConfig.api_key = \"\"\n",
    "today = datetime.now().strftime('%Y-%m-%d')"
   ]
  },
  {
   "cell_type": "code",
   "execution_count": 418,
   "id": "99ed9917",
   "metadata": {},
   "outputs": [
    {
     "data": {
      "text/html": [
       "<div>\n",
       "<style scoped>\n",
       "    .dataframe tbody tr th:only-of-type {\n",
       "        vertical-align: middle;\n",
       "    }\n",
       "\n",
       "    .dataframe tbody tr th {\n",
       "        vertical-align: top;\n",
       "    }\n",
       "\n",
       "    .dataframe thead th {\n",
       "        text-align: right;\n",
       "    }\n",
       "</style>\n",
       "<table border=\"1\" class=\"dataframe\">\n",
       "  <thead>\n",
       "    <tr style=\"text-align: right;\">\n",
       "      <th></th>\n",
       "      <th>Open</th>\n",
       "      <th>High</th>\n",
       "      <th>Low</th>\n",
       "      <th>Close</th>\n",
       "      <th>Volume</th>\n",
       "      <th>Dividend</th>\n",
       "      <th>Split</th>\n",
       "      <th>Adj_Open</th>\n",
       "      <th>Adj_High</th>\n",
       "      <th>Adj_Low</th>\n",
       "      <th>Adj_Close</th>\n",
       "      <th>Adj_Volume</th>\n",
       "    </tr>\n",
       "    <tr>\n",
       "      <th>Date</th>\n",
       "      <th></th>\n",
       "      <th></th>\n",
       "      <th></th>\n",
       "      <th></th>\n",
       "      <th></th>\n",
       "      <th></th>\n",
       "      <th></th>\n",
       "      <th></th>\n",
       "      <th></th>\n",
       "      <th></th>\n",
       "      <th></th>\n",
       "      <th></th>\n",
       "    </tr>\n",
       "  </thead>\n",
       "  <tbody>\n",
       "    <tr>\n",
       "      <th>2021-03-24</th>\n",
       "      <td>41.50</td>\n",
       "      <td>45.160</td>\n",
       "      <td>39.01</td>\n",
       "      <td>42.50</td>\n",
       "      <td>9032849.0</td>\n",
       "      <td>0.0</td>\n",
       "      <td>1.0</td>\n",
       "      <td>41.50</td>\n",
       "      <td>45.160</td>\n",
       "      <td>39.01</td>\n",
       "      <td>42.50</td>\n",
       "      <td>9032849.0</td>\n",
       "    </tr>\n",
       "    <tr>\n",
       "      <th>2021-03-25</th>\n",
       "      <td>42.36</td>\n",
       "      <td>45.000</td>\n",
       "      <td>39.50</td>\n",
       "      <td>41.76</td>\n",
       "      <td>1896020.0</td>\n",
       "      <td>0.0</td>\n",
       "      <td>1.0</td>\n",
       "      <td>42.36</td>\n",
       "      <td>45.000</td>\n",
       "      <td>39.50</td>\n",
       "      <td>41.76</td>\n",
       "      <td>1896020.0</td>\n",
       "    </tr>\n",
       "    <tr>\n",
       "      <th>2021-03-26</th>\n",
       "      <td>42.17</td>\n",
       "      <td>42.790</td>\n",
       "      <td>36.65</td>\n",
       "      <td>41.63</td>\n",
       "      <td>1395667.0</td>\n",
       "      <td>0.0</td>\n",
       "      <td>1.0</td>\n",
       "      <td>42.17</td>\n",
       "      <td>42.790</td>\n",
       "      <td>36.65</td>\n",
       "      <td>41.63</td>\n",
       "      <td>1395667.0</td>\n",
       "    </tr>\n",
       "    <tr>\n",
       "      <th>2021-03-29</th>\n",
       "      <td>41.91</td>\n",
       "      <td>44.010</td>\n",
       "      <td>39.86</td>\n",
       "      <td>40.06</td>\n",
       "      <td>1519239.0</td>\n",
       "      <td>0.0</td>\n",
       "      <td>1.0</td>\n",
       "      <td>41.91</td>\n",
       "      <td>44.010</td>\n",
       "      <td>39.86</td>\n",
       "      <td>40.06</td>\n",
       "      <td>1519239.0</td>\n",
       "    </tr>\n",
       "    <tr>\n",
       "      <th>2021-03-30</th>\n",
       "      <td>40.06</td>\n",
       "      <td>40.980</td>\n",
       "      <td>38.67</td>\n",
       "      <td>40.34</td>\n",
       "      <td>2094558.0</td>\n",
       "      <td>0.0</td>\n",
       "      <td>1.0</td>\n",
       "      <td>40.06</td>\n",
       "      <td>40.980</td>\n",
       "      <td>38.67</td>\n",
       "      <td>40.34</td>\n",
       "      <td>2094558.0</td>\n",
       "    </tr>\n",
       "    <tr>\n",
       "      <th>...</th>\n",
       "      <td>...</td>\n",
       "      <td>...</td>\n",
       "      <td>...</td>\n",
       "      <td>...</td>\n",
       "      <td>...</td>\n",
       "      <td>...</td>\n",
       "      <td>...</td>\n",
       "      <td>...</td>\n",
       "      <td>...</td>\n",
       "      <td>...</td>\n",
       "      <td>...</td>\n",
       "      <td>...</td>\n",
       "    </tr>\n",
       "    <tr>\n",
       "      <th>2021-08-24</th>\n",
       "      <td>55.75</td>\n",
       "      <td>56.109</td>\n",
       "      <td>54.02</td>\n",
       "      <td>55.51</td>\n",
       "      <td>1538163.0</td>\n",
       "      <td>0.0</td>\n",
       "      <td>1.0</td>\n",
       "      <td>55.75</td>\n",
       "      <td>56.109</td>\n",
       "      <td>54.02</td>\n",
       "      <td>55.51</td>\n",
       "      <td>1538163.0</td>\n",
       "    </tr>\n",
       "    <tr>\n",
       "      <th>2021-08-25</th>\n",
       "      <td>54.88</td>\n",
       "      <td>55.880</td>\n",
       "      <td>53.13</td>\n",
       "      <td>55.82</td>\n",
       "      <td>1422457.0</td>\n",
       "      <td>0.0</td>\n",
       "      <td>1.0</td>\n",
       "      <td>54.88</td>\n",
       "      <td>55.880</td>\n",
       "      <td>53.13</td>\n",
       "      <td>55.82</td>\n",
       "      <td>1422457.0</td>\n",
       "    </tr>\n",
       "    <tr>\n",
       "      <th>2021-08-26</th>\n",
       "      <td>56.08</td>\n",
       "      <td>58.650</td>\n",
       "      <td>56.00</td>\n",
       "      <td>56.80</td>\n",
       "      <td>1528176.0</td>\n",
       "      <td>0.0</td>\n",
       "      <td>1.0</td>\n",
       "      <td>56.08</td>\n",
       "      <td>58.650</td>\n",
       "      <td>56.00</td>\n",
       "      <td>56.80</td>\n",
       "      <td>1528176.0</td>\n",
       "    </tr>\n",
       "    <tr>\n",
       "      <th>2021-08-27</th>\n",
       "      <td>56.98</td>\n",
       "      <td>60.000</td>\n",
       "      <td>56.63</td>\n",
       "      <td>59.99</td>\n",
       "      <td>1370846.0</td>\n",
       "      <td>0.0</td>\n",
       "      <td>1.0</td>\n",
       "      <td>56.98</td>\n",
       "      <td>60.000</td>\n",
       "      <td>56.63</td>\n",
       "      <td>59.99</td>\n",
       "      <td>1370846.0</td>\n",
       "    </tr>\n",
       "    <tr>\n",
       "      <th>2021-08-30</th>\n",
       "      <td>61.20</td>\n",
       "      <td>62.720</td>\n",
       "      <td>59.57</td>\n",
       "      <td>62.23</td>\n",
       "      <td>1575425.0</td>\n",
       "      <td>0.0</td>\n",
       "      <td>1.0</td>\n",
       "      <td>61.20</td>\n",
       "      <td>62.720</td>\n",
       "      <td>59.57</td>\n",
       "      <td>62.23</td>\n",
       "      <td>1575425.0</td>\n",
       "    </tr>\n",
       "  </tbody>\n",
       "</table>\n",
       "<p>111 rows × 12 columns</p>\n",
       "</div>"
      ],
      "text/plain": [
       "             Open    High    Low  Close     Volume  Dividend  Split  Adj_Open  \\\n",
       "Date                                                                            \n",
       "2021-03-24  41.50  45.160  39.01  42.50  9032849.0       0.0    1.0     41.50   \n",
       "2021-03-25  42.36  45.000  39.50  41.76  1896020.0       0.0    1.0     42.36   \n",
       "2021-03-26  42.17  42.790  36.65  41.63  1395667.0       0.0    1.0     42.17   \n",
       "2021-03-29  41.91  44.010  39.86  40.06  1519239.0       0.0    1.0     41.91   \n",
       "2021-03-30  40.06  40.980  38.67  40.34  2094558.0       0.0    1.0     40.06   \n",
       "...           ...     ...    ...    ...        ...       ...    ...       ...   \n",
       "2021-08-24  55.75  56.109  54.02  55.51  1538163.0       0.0    1.0     55.75   \n",
       "2021-08-25  54.88  55.880  53.13  55.82  1422457.0       0.0    1.0     54.88   \n",
       "2021-08-26  56.08  58.650  56.00  56.80  1528176.0       0.0    1.0     56.08   \n",
       "2021-08-27  56.98  60.000  56.63  59.99  1370846.0       0.0    1.0     56.98   \n",
       "2021-08-30  61.20  62.720  59.57  62.23  1575425.0       0.0    1.0     61.20   \n",
       "\n",
       "            Adj_High  Adj_Low  Adj_Close  Adj_Volume  \n",
       "Date                                                  \n",
       "2021-03-24    45.160    39.01      42.50   9032849.0  \n",
       "2021-03-25    45.000    39.50      41.76   1896020.0  \n",
       "2021-03-26    42.790    36.65      41.63   1395667.0  \n",
       "2021-03-29    44.010    39.86      40.06   1519239.0  \n",
       "2021-03-30    40.980    38.67      40.34   2094558.0  \n",
       "...              ...      ...        ...         ...  \n",
       "2021-08-24    56.109    54.02      55.51   1538163.0  \n",
       "2021-08-25    55.880    53.13      55.82   1422457.0  \n",
       "2021-08-26    58.650    56.00      56.80   1528176.0  \n",
       "2021-08-27    60.000    56.63      59.99   1370846.0  \n",
       "2021-08-30    62.720    59.57      62.23   1575425.0  \n",
       "\n",
       "[111 rows x 12 columns]"
      ]
     },
     "execution_count": 418,
     "metadata": {},
     "output_type": "execute_result"
    }
   ],
   "source": [
    "ticker = 'DOCN'\n",
    "msft_data = qd.get(f\"EOD/{ticker}\",\n",
    "                   start_date=\"2020-01-01\",\n",
    "                   end_date=today)\n",
    "#msft_data.tail()\n",
    "msft_data"
   ]
  },
  {
   "cell_type": "code",
   "execution_count": 419,
   "id": "9c31cb25",
   "metadata": {
    "scrolled": true
   },
   "outputs": [
    {
     "name": "stdout",
     "output_type": "stream",
     "text": [
      "            Adj_Close\n",
      "Date                 \n",
      "2021-03-24   0.000000\n",
      "2021-03-25  -0.017412\n",
      "2021-03-26  -0.003113\n",
      "2021-03-29  -0.037713\n",
      "2021-03-30   0.006990\n",
      "...               ...\n",
      "2021-08-24   0.005070\n",
      "2021-08-25   0.005585\n",
      "2021-08-26   0.017556\n",
      "2021-08-27   0.056162\n",
      "2021-08-30   0.037340\n",
      "\n",
      "[111 rows x 1 columns]\n",
      "Date\n",
      "2021-07-20    45.9090\n",
      "2021-07-21    46.1942\n",
      "2021-07-22    46.4872\n",
      "2021-07-23    46.8310\n",
      "2021-07-26    47.2128\n",
      "2021-07-27    47.5240\n",
      "2021-07-28    47.8640\n",
      "2021-07-29    48.1566\n",
      "2021-07-30    48.4056\n",
      "2021-08-02    48.6842\n",
      "2021-08-03    49.0390\n",
      "2021-08-04    49.3784\n",
      "2021-08-05    49.6892\n",
      "2021-08-06    49.9184\n",
      "2021-08-09    50.1316\n",
      "2021-08-10    50.4434\n",
      "2021-08-11    50.7368\n",
      "2021-08-12    51.0140\n",
      "2021-08-13    51.2830\n",
      "2021-08-16    51.5096\n",
      "2021-08-17    51.7540\n",
      "2021-08-18    52.0110\n",
      "2021-08-19    52.2256\n",
      "2021-08-20    52.4642\n",
      "2021-08-23    52.7414\n",
      "2021-08-24    52.9784\n",
      "2021-08-25    53.2156\n",
      "2021-08-26    53.4210\n",
      "2021-08-27    53.6952\n",
      "2021-08-30    53.9998\n",
      "Name: Adj_Close, dtype: float64\n"
     ]
    }
   ],
   "source": [
    "# assign `Adj Close` to `close_price`\n",
    "close_price = msft_data[['Adj_Close']]\n",
    "  \n",
    "# returns as fractional change\n",
    "daily_return = close_price.pct_change()\n",
    "  \n",
    "# replacing NA values with 0\n",
    "daily_return.fillna(0, inplace=True)\n",
    "  \n",
    "print(daily_return)\n",
    "\n",
    "adj_price = msft_data['Adj_Close']\n",
    "  \n",
    "# calculate the moving average\n",
    "mav = adj_price.rolling(window=50).mean()\n",
    "  \n",
    "# print the result\n",
    "print(mav[-30:])"
   ]
  },
  {
   "cell_type": "code",
   "execution_count": 420,
   "id": "e4742beb",
   "metadata": {},
   "outputs": [
    {
     "name": "stdout",
     "output_type": "stream",
     "text": [
      "Adj_Close    0.115468\n",
      "dtype: float64\n",
      "            Adj_Close\n",
      "Date                 \n",
      "2021-05-10  -0.091962\n",
      "            Adj_Close\n",
      "Date                 \n",
      "2021-06-22   0.115468\n"
     ]
    }
   ],
   "source": [
    "print(daily_return.max())\n",
    "print(daily_return[daily_return['Adj_Close'] == daily_return['Adj_Close'].min()])\n",
    "\n",
    "print(daily_return[daily_return['Adj_Close'] == daily_return['Adj_Close'].max()])\n",
    "\n",
    "\n"
   ]
  },
  {
   "cell_type": "code",
   "execution_count": 421,
   "id": "a66da003",
   "metadata": {},
   "outputs": [
    {
     "data": {
      "text/plain": [
       "<AxesSubplot:xlabel='Date'>"
      ]
     },
     "execution_count": 421,
     "metadata": {},
     "output_type": "execute_result"
    },
    {
     "data": {
      "image/png": "[encoded data removed]",
      "text/plain": [
       "<Figure size 432x288 with 1 Axes>"
      ]
     },
     "metadata": {},
     "output_type": "display_data"
    }
   ],
   "source": [
    "adj_price.plot()\n"
   ]
  },
  {
   "cell_type": "code",
   "execution_count": 422,
   "id": "05c4d5ce",
   "metadata": {
    "scrolled": true
   },
   "outputs": [
    {
     "data": {
      "text/plain": [
       "<AxesSubplot:xlabel='Date'>"
      ]
     },
     "execution_count": 422,
     "metadata": {},
     "output_type": "execute_result"
    },
    {
     "data": {
      "image/png": "[encoded data removed]",
      "text/plain": [
       "<Figure size 432x288 with 1 Axes>"
      ]
     },
     "metadata": {},
     "output_type": "display_data"
    }
   ],
   "source": [
    "import matplotlib.pyplot as plt\n",
    "  \n",
    "adj_price.plot()\n",
    "mav.plot()"
   ]
  },
  {
   "cell_type": "code",
   "execution_count": 423,
   "id": "c3a96024",
   "metadata": {},
   "outputs": [
    {
     "data": {
      "text/plain": [
       "<AxesSubplot:xlabel='Date'>"
      ]
     },
     "execution_count": 423,
     "metadata": {},
     "output_type": "execute_result"
    },
    {
     "data": {
      "image/png": "[encoded data removed]",
      "text/plain": [
       "<Figure size 432x288 with 1 Axes>"
      ]
     },
     "metadata": {},
     "output_type": "display_data"
    }
   ],
   "source": [
    "mav.plot()"
   ]
  },
  {
   "cell_type": "code",
   "execution_count": 424,
   "id": "fd8f24a7",
   "metadata": {},
   "outputs": [],
   "source": [
    "import datetime as dt\n",
    "msft_data.Adj_Close.dtype\n",
    "a = msft_data\n",
    "#a['Date'] = pd.to_datetime(data_df['Date'])\n",
    "#data_df['Date'] = pd.to_datetime(data_df['Date'])\n",
    "#data_df['Date']=data_df['Date'].map(dt.datetime.toordinal)\n",
    "msft_data.head(3)\n",
    "a.index = a.index.map(dt.datetime.toordinal)"
   ]
  },
  {
   "cell_type": "code",
   "execution_count": 425,
   "id": "deedccb4",
   "metadata": {},
   "outputs": [],
   "source": [
    "#pd.to_datetime(a.index)\n",
    "from scipy import stats\n",
    "linear_regression = stats.linregress(x=a.index, y=a.Adj_Close)\n",
    "\n",
    "\n"
   ]
  },
  {
   "cell_type": "code",
   "execution_count": 426,
   "id": "2c7b6d26",
   "metadata": {},
   "outputs": [
    {
     "data": {
      "text/plain": [
       "0.11792524533824561"
      ]
     },
     "execution_count": 426,
     "metadata": {},
     "output_type": "execute_result"
    }
   ],
   "source": [
    "linear_regression.slope\n"
   ]
  },
  {
   "cell_type": "code",
   "execution_count": 427,
   "id": "aaf8d0b7",
   "metadata": {},
   "outputs": [
    {
     "data": {
      "text/plain": [
       "-86975.92298043176"
      ]
     },
     "execution_count": 427,
     "metadata": {},
     "output_type": "execute_result"
    }
   ],
   "source": [
    "linear_regression.intercept"
   ]
  },
  {
   "cell_type": "code",
   "execution_count": 428,
   "id": "e6124908",
   "metadata": {},
   "outputs": [
    {
     "data": {
      "text/plain": [
       "66.82325814341311"
      ]
     },
     "execution_count": 428,
     "metadata": {},
     "output_type": "execute_result"
    }
   ],
   "source": [
    "da=dt.date(year=2021, month=11, day=24)\n",
    "date_wanted = da.toordinal()\n",
    "#dt.datetime.toordinal('2021-11-01')\n",
    "\n",
    "linear_regression.slope*date_wanted + linear_regression.intercept"
   ]
  },
  {
   "cell_type": "code",
   "execution_count": 429,
   "id": "8b5cca39",
   "metadata": {},
   "outputs": [],
   "source": [
    "import seaborn as sns\n"
   ]
  },
  {
   "cell_type": "code",
   "execution_count": 430,
   "id": "320a7195",
   "metadata": {},
   "outputs": [
    {
     "name": "stderr",
     "output_type": "stream",
     "text": [
      "<ipython-input-430-bd71d3649adc>:11: UserWarning: FixedFormatter should only be used together with FixedLocator\n",
      "  axes.set_xticklabels([dt.datetime.fromordinal(tm) for tm in xticks], rotation=50)\n"
     ]
    },
    {
     "data": {
      "text/plain": [
       "Text(0.5, 1.0, 'DOCN')"
      ]
     },
     "execution_count": 430,
     "metadata": {},
     "output_type": "execute_result"
    },
    {
     "data": {
      "image/png": "[encoded data removed]",
      "text/plain": [
       "<Figure size 432x288 with 1 Axes>"
      ]
     },
     "metadata": {},
     "output_type": "display_data"
    }
   ],
   "source": [
    "sns.set_style('whitegrid')\n",
    "axes = sns.regplot(x=a.index, y=a.Adj_Close)\n",
    "\n",
    "\n",
    "# get current xtick labels\n",
    "xticks = axes.get_xticks()\n",
    "xticks = [int(tm) for tm in xticks]\n",
    "#print(xticks)\n",
    "#print([dt.datetime.fromordinal(tm) for tm in xticks])\n",
    "# convert all xtick labels to selected format from ms timestamp\n",
    "axes.set_xticklabels([dt.datetime.fromordinal(tm) for tm in xticks], rotation=50)\n",
    "axes.set_title(ticker, size = 24)\n",
    "#axes.set_ylim(-10,30)"
   ]
  },
  {
   "cell_type": "code",
   "execution_count": 382,
   "id": "b36b1e50",
   "metadata": {},
   "outputs": [
    {
     "name": "stdout",
     "output_type": "stream",
     "text": [
      "From ordinal - 2024-04-24 00:00:00\n"
     ]
    }
   ],
   "source": [
    "da=dt.date(year=2021, month=11, day=1)\n",
    "date_wanted = da.toordinal()\n",
    "\n",
    "# FROM ORDINAL\n",
    "from_ordinal = dt.datetime.fromordinal(739000)\n",
    "print(f\"From ordinal - {from_ordinal}\")"
   ]
  },
  {
   "cell_type": "code",
   "execution_count": null,
   "id": "b9be76bc",
   "metadata": {},
   "outputs": [],
   "source": []
  }
 ],
 "metadata": {
  "kernelspec": {
   "display_name": "Python 3",
   "language": "python",
   "name": "python3"
  },
  "language_info": {
   "codemirror_mode": {
    "name": "ipython",
    "version": 3
   },
   "file_extension": ".py",
   "mimetype": "text/x-python",
   "name": "python",
   "nbconvert_exporter": "python",
   "pygments_lexer": "ipython3",
   "version": "3.8.8"
  }
 },
 "nbformat": 4,
 "nbformat_minor": 5
}
